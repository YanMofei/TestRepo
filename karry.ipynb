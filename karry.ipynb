{
 "cells": [
  {
   "cell_type": "markdown",
   "id": "d4a528e3-f835-42cf-85bb-6abeeb251140",
   "metadata": {},
   "source": [
    "# Data Science Tools and Ecosystem"
   ]
  },
  {
   "cell_type": "markdown",
   "id": "6e6f5927-f842-489a-a969-6df80b0766b5",
   "metadata": {},
   "source": [
    "In this notebook, Data Science Tools and Ecosystem are summarized."
   ]
  },
  {
   "cell_type": "markdown",
   "id": "422cbeef-f678-47c6-ab4a-6418e1980a11",
   "metadata": {},
   "source": [
    "**Objectives:**\n",
    "* List popular language for Data Science\n",
    "* List popular libraries\n",
    "* execute two arithemetic expression"
   ]
  },
  {
   "cell_type": "markdown",
   "id": "df389434-7c5b-476f-9ef7-3ab9374323d5",
   "metadata": {},
   "source": [
    "Some of the popular languages that Data Scientists use are:\n",
    "1. Python\n",
    "2. R\n",
    "3. Java\n",
    "4. SQL"
   ]
  },
  {
   "cell_type": "markdown",
   "id": "0fa86b3e-8982-460a-9e07-8ef236a12939",
   "metadata": {},
   "source": [
    "Some of the commonly used libraries used by Data Scientists include:\n",
    "1. Pandas\n",
    "2. Numpy\n",
    "3. Scipy\n",
    "4. seaborn"
   ]
  },
  {
   "cell_type": "markdown",
   "id": "1465b4cc-1fb3-48bc-83ff-c3e26a196aa1",
   "metadata": {},
   "source": [
    "|Data Science Tools|\n",
    "|---|\n",
    "|GitHub|\n",
    "|Anaconda|\n",
    "|JupyerLab|"
   ]
  },
  {
   "cell_type": "markdown",
   "id": "f37079d8-7b04-45e4-92d4-f6b551c02ad9",
   "metadata": {},
   "source": [
    "### Below are a few examples of evaluating arithmetic expressions in Python"
   ]
  },
  {
   "cell_type": "code",
   "execution_count": 6,
   "id": "9cb7571c-dca3-49e2-bb3e-6d616a0b4e81",
   "metadata": {},
   "outputs": [
    {
     "data": {
      "text/plain": [
       "17"
      ]
     },
     "execution_count": 6,
     "metadata": {},
     "output_type": "execute_result"
    }
   ],
   "source": [
    "# This a simple arithmetic expression to mutiply then add integers\n",
    "(3*4)+5"
   ]
  },
  {
   "cell_type": "code",
   "execution_count": 7,
   "id": "a9b0244d-0e4d-4993-af22-c54c505ddce0",
   "metadata": {},
   "outputs": [
    {
     "data": {
      "text/plain": [
       "3.3333333333333335"
      ]
     },
     "execution_count": 7,
     "metadata": {},
     "output_type": "execute_result"
    }
   ],
   "source": [
    "# This will convert 200 minutes to hours by diving by 60\n",
    "200/60"
   ]
  },
  {
   "cell_type": "markdown",
   "id": "b82ee3d3-891d-4ad4-9407-6699c3028870",
   "metadata": {},
   "source": [
    "## Author\n",
    "Yan Mofei"
   ]
  }
 ],
 "metadata": {
  "kernelspec": {
   "display_name": "Python [conda env:anaconda3]",
   "language": "python",
   "name": "conda-env-anaconda3-py"
  },
  "language_info": {
   "codemirror_mode": {
    "name": "ipython",
    "version": 3
   },
   "file_extension": ".py",
   "mimetype": "text/x-python",
   "name": "python",
   "nbconvert_exporter": "python",
   "pygments_lexer": "ipython3",
   "version": "3.12.7"
  }
 },
 "nbformat": 4,
 "nbformat_minor": 5
}
